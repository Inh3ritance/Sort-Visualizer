{
  "nbformat": 4,
  "nbformat_minor": 0,
  "metadata": {
    "colab": {
      "name": "Visualizer",
      "provenance": [],
      "collapsed_sections": []
    },
    "kernelspec": {
      "name": "python3",
      "display_name": "Python 3"
    }
  },
  "cells": [
    {
      "cell_type": "code",
      "metadata": {
        "id": "48bpUufSwsYs",
        "colab_type": "code",
        "colab": {}
      },
      "source": [
        "import random\n",
        "import time\n",
        "import matplotlib.pyplot as plt\n",
        "import matplotlib.animation as animation\n",
        "\n",
        "arr = [10,9,8,7,6,5,4,3,2,1]\n",
        "\n",
        "#Global Swap\n",
        "def swap(arr,i,j):\n",
        "  x = arr[i];\n",
        "  arr[i] = arr[j]\n",
        "  arr[j] = x"
      ],
      "execution_count": 0,
      "outputs": []
    },
    {
      "cell_type": "code",
      "metadata": {
        "id": "F5tVU6cky3ZH",
        "colab_type": "code",
        "colab": {}
      },
      "source": [
        "def BubbleSort(arr):\n",
        "  for i in range(len(arr)-1):        \n",
        "    for j in range(len(arr) - i - 1):\n",
        "      if arr[j] > arr[j + 1]:\n",
        "        swap(arr,j,j+1)\n",
        "        yield arr\n",
        "\n",
        "title = \"Bubble sort\"\n",
        "generator = BubbleSort(arr)"
      ],
      "execution_count": 0,
      "outputs": []
    },
    {
      "cell_type": "code",
      "metadata": {
        "id": "hs3ULbPeC-7k",
        "colab_type": "code",
        "colab": {}
      },
      "source": [
        "def InsertionSort(arr):\n",
        "    for i in range(1, len(arr)):\n",
        "        j = i\n",
        "        while j > 0 and arr[j] < arr[j - 1]:\n",
        "            swap(arr, j, j - 1)\n",
        "            j -= 1\n",
        "            yield arr\n",
        "        \n",
        "title = \"Insertion sort\"\n",
        "generator = InsertionSort(arr)"
      ],
      "execution_count": 0,
      "outputs": []
    },
    {
      "cell_type": "code",
      "metadata": {
        "id": "DjIgMpKS1fT5",
        "colab_type": "code",
        "colab": {}
      },
      "source": [
        "fig, ax = plt.subplots()\n",
        "ax.set_title(title)\n",
        "text = ax.text(0.02, 0.95, \"\", transform=ax.transAxes)\n",
        "for j in generator:\n",
        "  bar_rects = ax.bar(range(len(arr)), arr, align=\"edge\")\n",
        "  fig, ax = plt.subplots()\n",
        "  fig.show()"
      ],
      "execution_count": 0,
      "outputs": []
    }
  ]
}